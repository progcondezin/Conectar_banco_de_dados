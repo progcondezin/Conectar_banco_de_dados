{
 "cells": [
  {
   "cell_type": "code",
   "execution_count": 1,
   "metadata": {},
   "outputs": [],
   "source": [
    "import pandas as pd\n",
    "import sqlalchemy\n",
    "import pymssql\n",
    "from datetime import datetime\n",
    "\n",
    "#Blibiotecas utilizadas\n",
    "#https://www.sqlalchemy.org/\n",
    "#https://pandas.pydata.org/\n",
    "#https://pymssql.readthedocs.io/en/latest/pymssql_examples.html#bulk-copy"
   ]
  },
  {
   "cell_type": "code",
   "execution_count": 2,
   "metadata": {},
   "outputs": [],
   "source": [
    "hoje = datetime.today().strftime('%Y-%m-31')"
   ]
  },
  {
   "cell_type": "code",
   "execution_count": 3,
   "metadata": {},
   "outputs": [],
   "source": [
    "dia = datetime.today().strftime('%Y-%m-%d')"
   ]
  },
  {
   "cell_type": "code",
   "execution_count": 4,
   "metadata": {},
   "outputs": [],
   "source": [
    "mes_atual = datetime.today().strftime('%Y-%m-01')"
   ]
  },
  {
   "cell_type": "code",
   "execution_count": 5,
   "metadata": {},
   "outputs": [],
   "source": [
    "#trocar os dados dentro das #hashtags#\n",
    "engine = sqlalchemy.create_engine('mysql+pymysql://#nome_do_usuario#:#senha#@#servidor#:#porta#/#nome_do_banco#')"
   ]
  },
  {
   "cell_type": "code",
   "execution_count": 6,
   "metadata": {},
   "outputs": [],
   "source": [
    "query = f'''\n",
    "select\n",
    "where (data >= '{mes_atual}' and data <= '{hoje}') \n",
    "'''"
   ]
  },
  {
   "cell_type": "code",
   "execution_count": 7,
   "metadata": {},
   "outputs": [],
   "source": [
    "df_sql = pd.read_sql_query(query, engine)"
   ]
  },
  {
   "cell_type": "code",
   "execution_count": null,
   "metadata": {},
   "outputs": [],
   "source": [
    "df_sql(r'#Caminho_do_arquivo#.extensão',index=False)"
   ]
  }
 ],
 "metadata": {
  "kernelspec": {
   "display_name": "base",
   "language": "python",
   "name": "python3"
  },
  "language_info": {
   "codemirror_mode": {
    "name": "ipython",
    "version": 3
   },
   "file_extension": ".py",
   "mimetype": "text/x-python",
   "name": "python",
   "nbconvert_exporter": "python",
   "pygments_lexer": "ipython3",
   "version": "3.11.5"
  },
  "vscode": {
   "interpreter": {
    "hash": "4db3a217e6229dd3f39c424da31ae9a8751f751f21c271735a541832de679713"
   }
  }
 },
 "nbformat": 4,
 "nbformat_minor": 2
}
