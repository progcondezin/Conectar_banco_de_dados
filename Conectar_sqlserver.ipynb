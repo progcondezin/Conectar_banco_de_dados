{
 "cells": [
  {
   "cell_type": "code",
   "execution_count": 1,
   "metadata": {},
   "outputs": [
    {
     "ename": "ModuleNotFoundError",
     "evalue": "No module named 'pymssql'",
     "output_type": "error",
     "traceback": [
      "\u001b[1;31m---------------------------------------------------------------------------\u001b[0m",
      "\u001b[1;31mModuleNotFoundError\u001b[0m                       Traceback (most recent call last)",
      "\u001b[1;32mc:\\Users\\gabri\\OneDrive\\Área de Trabalho\\Programação\\Projetos\\python\\Conectar banco de dados\\Conectar_sqlserver.ipynb Cell 1\u001b[0m line \u001b[0;36m3\n\u001b[0;32m      <a href='vscode-notebook-cell:/c%3A/Users/gabri/OneDrive/%C3%81rea%20de%20Trabalho/Programa%C3%A7%C3%A3o/Projetos/python/Conectar%20banco%20de%20dados/Conectar_sqlserver.ipynb#W0sZmlsZQ%3D%3D?line=0'>1</a>\u001b[0m \u001b[39mimport\u001b[39;00m \u001b[39mpandas\u001b[39;00m \u001b[39mas\u001b[39;00m \u001b[39mpd\u001b[39;00m\n\u001b[0;32m      <a href='vscode-notebook-cell:/c%3A/Users/gabri/OneDrive/%C3%81rea%20de%20Trabalho/Programa%C3%A7%C3%A3o/Projetos/python/Conectar%20banco%20de%20dados/Conectar_sqlserver.ipynb#W0sZmlsZQ%3D%3D?line=1'>2</a>\u001b[0m \u001b[39mimport\u001b[39;00m \u001b[39msqlalchemy\u001b[39;00m\n\u001b[1;32m----> <a href='vscode-notebook-cell:/c%3A/Users/gabri/OneDrive/%C3%81rea%20de%20Trabalho/Programa%C3%A7%C3%A3o/Projetos/python/Conectar%20banco%20de%20dados/Conectar_sqlserver.ipynb#W0sZmlsZQ%3D%3D?line=2'>3</a>\u001b[0m \u001b[39mimport\u001b[39;00m \u001b[39mpymssql\u001b[39;00m\n",
      "\u001b[1;31mModuleNotFoundError\u001b[0m: No module named 'pymssql'"
     ]
    }
   ],
   "source": [
    "import pandas as pd\n",
    "import sqlalchemy\n",
    "import pymssql\n",
    "\n",
    "#Blibiotecas utilizadas\n",
    "#https://www.sqlalchemy.org/\n",
    "#https://pandas.pydata.org/\n",
    "#https://pymssql.readthedocs.io/en/latest/pymssql_examples.html#bulk-copy"
   ]
  },
  {
   "cell_type": "code",
   "execution_count": 2,
   "metadata": {},
   "outputs": [],
   "source": [
    "engine = sqlalchemy.create_engine(\"mssql+pymssql://#nome_do_usuario#:#senha#@#Servidor#/#nome_do_banco#\")\n"
   ]
  },
  {
   "cell_type": "code",
   "execution_count": 3,
   "metadata": {},
   "outputs": [],
   "source": [
    "#trocar os dados dentro das #hashtags#\n",
    "\n",
    "\n",
    "query = '''\n",
    "    SELECT * \n",
    "    WHERE DATA >= '20230801' AND DATA <='20501231'\n",
    "    '''\n",
    "\n"
   ]
  },
  {
   "cell_type": "code",
   "execution_count": null,
   "metadata": {},
   "outputs": [],
   "source": [
    "df = pd.read_sql_query(query, engine)\n"
   ]
  },
  {
   "cell_type": "code",
   "execution_count": 7,
   "metadata": {},
   "outputs": [],
   "source": [
    "df(r'#Caminho_do_arquivo#.extensão',index=False)"
   ]
  }
 ],
 "metadata": {
  "interpreter": {
   "hash": "f8b9a6543fba5fe280e001fbb10305196a7a38b1c308dec467bf7574d79e2fac"
  },
  "kernelspec": {
   "display_name": "Python 3.8.8 ('base')",
   "language": "python",
   "name": "python3"
  },
  "language_info": {
   "codemirror_mode": {
    "name": "ipython",
    "version": 3
   },
   "file_extension": ".py",
   "mimetype": "text/x-python",
   "name": "python",
   "nbconvert_exporter": "python",
   "pygments_lexer": "ipython3",
   "version": "3.11.5"
  },
  "orig_nbformat": 4
 },
 "nbformat": 4,
 "nbformat_minor": 2
}
