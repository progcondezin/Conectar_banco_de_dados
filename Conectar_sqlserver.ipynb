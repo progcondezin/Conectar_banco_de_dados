{
 "cells": [
  {
   "cell_type": "code",
   "execution_count": null,
   "metadata": {},
   "outputs": [],
   "source": [
    "import pandas as pd\n",
    "import sqlalchemy\n",
    "import pymssql\n",
    "\n",
    "#Blibiotecas utilizadas\n",
    "#https://www.sqlalchemy.org/\n",
    "#https://pandas.pydata.org/\n",
    "#https://pymssql.readthedocs.io/en/latest/pymssql_examples.html#bulk-copy"
   ]
  },
  {
   "cell_type": "code",
   "execution_count": 2,
   "metadata": {},
   "outputs": [],
   "source": [
    "engine = sqlalchemy.create_engine(\"mssql+pymssql://#nome_do_usuario#:#senha#@#Servidor#/#nome_do_banco#\")\n"
   ]
  },
  {
   "cell_type": "code",
   "execution_count": 3,
   "metadata": {},
   "outputs": [],
   "source": [
    "#trocar os dados dentro das #hashtags#\n",
    "\n",
    "\n",
    "query = '''\n",
    "    SELECT * \n",
    "    WHERE DATA >= '20230801' AND DATA <='20501231'\n",
    "    '''\n",
    "\n"
   ]
  },
  {
   "cell_type": "code",
   "execution_count": null,
   "metadata": {},
   "outputs": [],
   "source": [
    "df = pd.read_sql_query(query, engine)\n"
   ]
  },
  {
   "cell_type": "code",
   "execution_count": 7,
   "metadata": {},
   "outputs": [],
   "source": [
    "df(r'#Caminho_do_arquivo#.extensão',index=False)"
   ]
  }
 ],
 "metadata": {
  "interpreter": {
   "hash": "f8b9a6543fba5fe280e001fbb10305196a7a38b1c308dec467bf7574d79e2fac"
  },
  "kernelspec": {
   "display_name": "Python 3.8.8 ('base')",
   "language": "python",
   "name": "python3"
  },
  "language_info": {
   "codemirror_mode": {
    "name": "ipython",
    "version": 3
   },
   "file_extension": ".py",
   "mimetype": "text/x-python",
   "name": "python",
   "nbconvert_exporter": "python",
   "pygments_lexer": "ipython3",
   "version": "3.11.5"
  },
  "orig_nbformat": 4
 },
 "nbformat": 4,
 "nbformat_minor": 2
}
